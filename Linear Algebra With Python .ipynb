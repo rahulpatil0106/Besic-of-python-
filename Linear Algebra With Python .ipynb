{
 "cells": [
  {
   "cell_type": "code",
   "execution_count": 1,
   "metadata": {},
   "outputs": [],
   "source": [
    "import numpy as np\n",
    "import pandas as pd\n"
   ]
  },
  {
   "cell_type": "code",
   "execution_count": 55,
   "metadata": {},
   "outputs": [],
   "source": [
    "## Creating a matrix or array\n",
    "np.random.seed(123)          # This is command for computing similare random sample always\n",
    "\n",
    "\n",
    "M =np.matrix(np.random.randn(3,3))   \n",
    "A = np.matrix(np.random.randint(1,10,size= (3,1)))\n"
   ]
  },
  {
   "cell_type": "code",
   "execution_count": 73,
   "metadata": {},
   "outputs": [
    {
     "name": "stdout",
     "output_type": "stream",
     "text": [
      "{'Shape': (3, 3), 'Size': 9, 'Dimention': 2}\n",
      "{'Shape': (3, 1), 'Size': 3, 'Dimention': 2}\n",
      "False\n"
     ]
    }
   ],
   "source": [
    "## ------------------------------ Besic propreties of matrix -------------------------------------------------##\n",
    "\n",
    "# Common properties \n",
    "prop_dict = {'Shape':'This is a # rows and # columns in matrix','Size':'This is total # of elements in matrix','Dimention':'This for array ,matrix is alway a 2D array'}\n",
    "\n",
    "\n",
    "## Commands for detrmine properties \n",
    "command_dict_M = {'Shape':M.shape ,'Size':M.size,'Dimention':M.ndim}\n",
    "\n",
    "command_dict_A = {'Shape':A.shape,'Size':A.size,'Dimention': A.ndim}\n",
    "\n",
    "print(command_dict_M)\n",
    "print(command_dict_A)\n",
    "print(command_dict_M == command_dict_A) ## Comparisen of two dictionaries \n"
   ]
  },
  {
   "cell_type": "code",
   "execution_count": 65,
   "metadata": {},
   "outputs": [
    {
     "data": {
      "text/plain": [
       "matrix([[4., 0., 0.],\n",
       "        [0., 5., 0.],\n",
       "        [0., 0., 1.]])"
      ]
     },
     "execution_count": 65,
     "metadata": {},
     "output_type": "execute_result"
    }
   ],
   "source": [
    "## ------------------Matrix multipication addition ,substraction  and matrix inverse------------------- ##\n",
    "\n",
    "##--------------------------------------------------------------------------------------------------------------------------------\n",
    "# 1. Mat1.dot(Mat2) or 2) np.matmul(Mat1,Mat2)\n",
    "\n",
    "\n",
    "##--------------------------------------------------------------------------------------------------------------------------------\n",
    "\n",
    "Comp_dict = {'Dot':M.dot(A),'Matmul':np.matmul(M,A),'simple_mult':(M*A)}\n",
    "\n",
    "Comp_dict['Dot'] == Comp_dict['Matmul'] \n",
    "Comp_dict['Matmul'] ==  Comp_dict['simple_mult']\n",
    "\n",
    "\n",
    "# Simple addition of matix ( For addition and substraction of matrix they shoud of same shape)\n",
    "\n",
    "add_dict = {'add_command' : np.add(M,M) ,'simple_add' : (M+M)}    \n",
    "\n",
    "add_dict['add_command'] == add_dict['simple_add']\n",
    "\n",
    "\n",
    "# Subtraction of matrix\n",
    "\n",
    "sub_dict ={'subtract_command': np.subtract(M,M),'simple_sub':(M-M)}\n",
    "\n",
    "sub_dict['subtract_command'] == sub_dict['simple_sub']\n",
    "\n",
    "\n",
    "##--------------------------------------------------------#@@@# -----------------------------------------------------------##\n",
    "##                                      Elementwise matrix multiplication                                                  ##\n",
    "##--------------------------------------------------------#@@@#------------------------------------------------------------##\n",
    "\n",
    "# It not nessary that two matrix should be are of same length\n",
    "\n",
    "np.multiply(M,A)\n",
    "np.multiply(A,np.eye(3))\n"
   ]
  },
  {
   "cell_type": "code",
   "execution_count": 98,
   "metadata": {},
   "outputs": [
    {
     "data": {
      "text/plain": [
       "{'Rank': 3}"
      ]
     },
     "execution_count": 98,
     "metadata": {},
     "output_type": "execute_result"
    }
   ],
   "source": [
    "####  Transpose ,Inverse ,Trace ,Determinate ,Rank\n",
    "\n",
    "## Transpose of matrix \n",
    "trans_dict = {'Method_1':A.T,'Method_2':np.transpose(A)}\n",
    "\n",
    "## Trace of matrix \n",
    "trace_dict = {'Method_1':M.trace(),'Method_2':np.trace(M)}\n",
    "\n",
    "## Determinate of matrix \n",
    "\n",
    "detar_dict = {'Detminate': np.linalg.det(np.eye(3))}    ## Determinate of identiy matrix is always one \n",
    "detar_dict\n",
    "\n",
    "## Inverse of a matrix \n",
    "inv_dict = {'Inverse': np.linalg.inv(M)}\n",
    "inv_dict\n",
    "\n",
    "## Rank of matrix \n",
    "\n",
    "rank_dict = {'Rank': np.linalg.matrix_rank(np.eye(3))}\n",
    "rank_dict\n",
    "\n",
    "## How to compute G inverse of a Matrix \n",
    "\n",
    "\n",
    "\n",
    "\n"
   ]
  },
  {
   "cell_type": "code",
   "execution_count": 122,
   "metadata": {},
   "outputs": [
    {
     "data": {
      "text/plain": [
       "matrix([[ 7.],\n",
       "        [-4.],\n",
       "        [-2.]])"
      ]
     },
     "execution_count": 122,
     "metadata": {},
     "output_type": "execute_result"
    }
   ],
   "source": [
    "## -----------------------------------# System of linear Eqution # -------------------------------------------------- ##\n",
    "\n",
    "# Genrel Formula of this Ax = b \n",
    "\n",
    "mat = np.matrix ([[1,2,-1],[2,1,4],[3,3,4]])\n",
    "b   = np.matrix([1,2,1]).T\n",
    "\n",
    "np.linalg.solve(mat,b)\n",
    "\n"
   ]
  },
  {
   "cell_type": "code",
   "execution_count": 118,
   "metadata": {},
   "outputs": [
    {
     "name": "stdout",
     "output_type": "stream",
     "text": [
      "[[-0.22975292  0.97324899]\n",
      " [ 0.97324899  0.22975292]]\n",
      "\n",
      "\n",
      "[3.70245917 0.54018151]\n",
      "\n",
      "\n",
      "[[-0.52573111 -0.85065081]\n",
      " [-0.85065081  0.52573111]]\n"
     ]
    }
   ],
   "source": [
    "## -----------------------------------------Decomposation of matrix-------------------------------------------------- ##\n",
    "\n",
    "## Eigen value decomposation \n",
    "## This is compostion for the square matrix. A(mxm) = U(mxm)E(mxm)U'(mxm)\n",
    "\n",
    "temp = np.matrix([[0,1],[-2,-3]])\n",
    "values,vectors = np.linalg.eig(temp)\n",
    "# print(values,vectors)\n",
    "\n",
    "## Singular value decomposition \n",
    "## Sinagular value decompostion is s used for when the matrix is not square .  A(mxn) = U(mxm)E(mxn)V'(nxn)\n",
    "\n",
    "U,S,Vtranspose = np.linalg.svd(temp)\n",
    "\n",
    "print(U)\n",
    "print('\\n')\n",
    "print(S)\n",
    "print('\\n')\n",
    "print(Vtranspose)"
   ]
  },
  {
   "cell_type": "code",
   "execution_count": 15,
   "metadata": {},
   "outputs": [
    {
     "ename": "ValueError",
     "evalue": "shape too large to be a matrix.",
     "output_type": "error",
     "traceback": [
      "\u001b[1;31m---------------------------------------------------------------------------\u001b[0m",
      "\u001b[1;31mValueError\u001b[0m                                Traceback (most recent call last)",
      "\u001b[1;32m<ipython-input-15-bf2dd99b706b>\u001b[0m in \u001b[0;36m<module>\u001b[1;34m\u001b[0m\n\u001b[1;32m----> 1\u001b[1;33m \u001b[0mnp\u001b[0m\u001b[1;33m.\u001b[0m\u001b[0mmatrix\u001b[0m\u001b[1;33m(\u001b[0m\u001b[0mnp\u001b[0m\u001b[1;33m.\u001b[0m\u001b[0mrandom\u001b[0m\u001b[1;33m.\u001b[0m\u001b[0mrandint\u001b[0m\u001b[1;33m(\u001b[0m\u001b[1;36m10\u001b[0m\u001b[1;33m,\u001b[0m\u001b[1;36m100\u001b[0m\u001b[1;33m,\u001b[0m\u001b[0msize\u001b[0m\u001b[1;33m=\u001b[0m \u001b[1;33m(\u001b[0m\u001b[1;36m3\u001b[0m\u001b[1;33m,\u001b[0m\u001b[1;36m3\u001b[0m\u001b[1;33m,\u001b[0m\u001b[1;36m3\u001b[0m\u001b[1;33m)\u001b[0m\u001b[1;33m)\u001b[0m\u001b[1;33m)\u001b[0m\u001b[1;33m\u001b[0m\u001b[1;33m\u001b[0m\u001b[0m\n\u001b[0m",
      "\u001b[1;32m~\\AppData\\Local\\Continuum\\anaconda3\\lib\\site-packages\\numpy\\matrixlib\\defmatrix.py\u001b[0m in \u001b[0;36m__new__\u001b[1;34m(subtype, data, dtype, copy)\u001b[0m\n\u001b[0;32m    130\u001b[0m             \u001b[1;32melse\u001b[0m\u001b[1;33m:\u001b[0m\u001b[1;33m\u001b[0m\u001b[1;33m\u001b[0m\u001b[0m\n\u001b[0;32m    131\u001b[0m                 \u001b[0mintype\u001b[0m \u001b[1;33m=\u001b[0m \u001b[0mN\u001b[0m\u001b[1;33m.\u001b[0m\u001b[0mdtype\u001b[0m\u001b[1;33m(\u001b[0m\u001b[0mdtype\u001b[0m\u001b[1;33m)\u001b[0m\u001b[1;33m\u001b[0m\u001b[1;33m\u001b[0m\u001b[0m\n\u001b[1;32m--> 132\u001b[1;33m             \u001b[0mnew\u001b[0m \u001b[1;33m=\u001b[0m \u001b[0mdata\u001b[0m\u001b[1;33m.\u001b[0m\u001b[0mview\u001b[0m\u001b[1;33m(\u001b[0m\u001b[0msubtype\u001b[0m\u001b[1;33m)\u001b[0m\u001b[1;33m\u001b[0m\u001b[1;33m\u001b[0m\u001b[0m\n\u001b[0m\u001b[0;32m    133\u001b[0m             \u001b[1;32mif\u001b[0m \u001b[0mintype\u001b[0m \u001b[1;33m!=\u001b[0m \u001b[0mdata\u001b[0m\u001b[1;33m.\u001b[0m\u001b[0mdtype\u001b[0m\u001b[1;33m:\u001b[0m\u001b[1;33m\u001b[0m\u001b[1;33m\u001b[0m\u001b[0m\n\u001b[0;32m    134\u001b[0m                 \u001b[1;32mreturn\u001b[0m \u001b[0mnew\u001b[0m\u001b[1;33m.\u001b[0m\u001b[0mastype\u001b[0m\u001b[1;33m(\u001b[0m\u001b[0mintype\u001b[0m\u001b[1;33m)\u001b[0m\u001b[1;33m\u001b[0m\u001b[1;33m\u001b[0m\u001b[0m\n",
      "\u001b[1;32m~\\AppData\\Local\\Continuum\\anaconda3\\lib\\site-packages\\numpy\\matrixlib\\defmatrix.py\u001b[0m in \u001b[0;36m__array_finalize__\u001b[1;34m(self, obj)\u001b[0m\n\u001b[0;32m    175\u001b[0m                 \u001b[1;32mreturn\u001b[0m\u001b[1;33m\u001b[0m\u001b[1;33m\u001b[0m\u001b[0m\n\u001b[0;32m    176\u001b[0m             \u001b[1;32melif\u001b[0m \u001b[1;33m(\u001b[0m\u001b[0mndim\u001b[0m \u001b[1;33m>\u001b[0m \u001b[1;36m2\u001b[0m\u001b[1;33m)\u001b[0m\u001b[1;33m:\u001b[0m\u001b[1;33m\u001b[0m\u001b[1;33m\u001b[0m\u001b[0m\n\u001b[1;32m--> 177\u001b[1;33m                 \u001b[1;32mraise\u001b[0m \u001b[0mValueError\u001b[0m\u001b[1;33m(\u001b[0m\u001b[1;34m\"shape too large to be a matrix.\"\u001b[0m\u001b[1;33m)\u001b[0m\u001b[1;33m\u001b[0m\u001b[1;33m\u001b[0m\u001b[0m\n\u001b[0m\u001b[0;32m    178\u001b[0m         \u001b[1;32melse\u001b[0m\u001b[1;33m:\u001b[0m\u001b[1;33m\u001b[0m\u001b[1;33m\u001b[0m\u001b[0m\n\u001b[0;32m    179\u001b[0m             \u001b[0mnewshape\u001b[0m \u001b[1;33m=\u001b[0m \u001b[0mself\u001b[0m\u001b[1;33m.\u001b[0m\u001b[0mshape\u001b[0m\u001b[1;33m\u001b[0m\u001b[1;33m\u001b[0m\u001b[0m\n",
      "\u001b[1;31mValueError\u001b[0m: shape too large to be a matrix."
     ]
    }
   ],
   "source": [
    "## Error \n",
    "np.matrix(np.random.randint(10,100,size= (3,3,3)))  ## This is not possiable because matrix is special case of array and it has only two dimention  \n"
   ]
  },
  {
   "cell_type": "code",
   "execution_count": 1,
   "metadata": {},
   "outputs": [
    {
     "data": {
      "text/plain": [
       "'C:\\\\Users\\\\para9004'"
      ]
     },
     "execution_count": 1,
     "metadata": {},
     "output_type": "execute_result"
    }
   ],
   "source": [
    "pwd\n"
   ]
  },
  {
   "cell_type": "code",
   "execution_count": null,
   "metadata": {},
   "outputs": [],
   "source": []
  }
 ],
 "metadata": {
  "kernelspec": {
   "display_name": "Python 3",
   "language": "python",
   "name": "python3"
  },
  "language_info": {
   "codemirror_mode": {
    "name": "ipython",
    "version": 3
   },
   "file_extension": ".py",
   "mimetype": "text/x-python",
   "name": "python",
   "nbconvert_exporter": "python",
   "pygments_lexer": "ipython3",
   "version": "3.7.1"
  }
 },
 "nbformat": 4,
 "nbformat_minor": 2
}
